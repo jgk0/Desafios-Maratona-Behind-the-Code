{
 "cells": [
  {
   "cell_type": "code",
   "execution_count": null,
   "metadata": {},
   "outputs": [],
   "source": [
    "# Insira seu project token aqui"
   ]
  },
  {
   "cell_type": "markdown",
   "metadata": {
    "collapsed": true
   },
   "source": [
    "# MARATONA BEHIND THE CODE 2020\n",
    "\n",
    "## DESAFIO 7 - TNT"
   ]
  },
  {
   "cell_type": "markdown",
   "metadata": {},
   "source": [
    "<hr>"
   ]
  },
  {
   "cell_type": "markdown",
   "metadata": {},
   "source": [
    "## Installing Libs"
   ]
  },
  {
   "cell_type": "code",
   "execution_count": 12,
   "metadata": {},
   "outputs": [
    {
     "name": "stdout",
     "output_type": "stream",
     "text": [
      "Requirement already up-to-date: scikit-learn in e:\\programas\\anaconda\\lib\\site-packages (0.23.2)\n",
      "Requirement already satisfied, skipping upgrade: threadpoolctl>=2.0.0 in e:\\programas\\anaconda\\lib\\site-packages (from scikit-learn) (2.1.0)\n",
      "Requirement already satisfied, skipping upgrade: scipy>=0.19.1 in e:\\programas\\anaconda\\lib\\site-packages (from scikit-learn) (1.3.1)\n",
      "Requirement already satisfied, skipping upgrade: numpy>=1.13.3 in e:\\programas\\anaconda\\lib\\site-packages (from scikit-learn) (1.16.5)\n",
      "Requirement already satisfied, skipping upgrade: joblib>=0.11 in e:\\programas\\anaconda\\lib\\site-packages (from scikit-learn) (0.13.2)\n"
     ]
    }
   ],
   "source": [
    "!pip install scikit-learn --upgrade"
   ]
  },
  {
   "cell_type": "code",
   "execution_count": 13,
   "metadata": {},
   "outputs": [
    {
     "name": "stdout",
     "output_type": "stream",
     "text": [
      "Requirement already up-to-date: xgboost in e:\\programas\\anaconda\\lib\\site-packages (1.2.0)\n",
      "Requirement already satisfied, skipping upgrade: scipy in e:\\programas\\anaconda\\lib\\site-packages (from xgboost) (1.3.1)\n",
      "Requirement already satisfied, skipping upgrade: numpy in e:\\programas\\anaconda\\lib\\site-packages (from xgboost) (1.16.5)\n"
     ]
    }
   ],
   "source": [
    "!pip install xgboost --upgrade"
   ]
  },
  {
   "cell_type": "code",
   "execution_count": 14,
   "metadata": {},
   "outputs": [
    {
     "name": "stdout",
     "output_type": "stream",
     "text": [
      "Requirement already up-to-date: imblearn in e:\\programas\\anaconda\\lib\\site-packages (0.0)\n",
      "Requirement already satisfied, skipping upgrade: imbalanced-learn in e:\\programas\\anaconda\\lib\\site-packages (from imblearn) (0.7.0)\n",
      "Requirement already satisfied, skipping upgrade: joblib>=0.11 in e:\\programas\\anaconda\\lib\\site-packages (from imbalanced-learn->imblearn) (0.13.2)\n",
      "Requirement already satisfied, skipping upgrade: scikit-learn>=0.23 in e:\\programas\\anaconda\\lib\\site-packages (from imbalanced-learn->imblearn) (0.23.2)\n",
      "Requirement already satisfied, skipping upgrade: scipy>=0.19.1 in e:\\programas\\anaconda\\lib\\site-packages (from imbalanced-learn->imblearn) (1.3.1)\n",
      "Requirement already satisfied, skipping upgrade: numpy>=1.13.3 in e:\\programas\\anaconda\\lib\\site-packages (from imbalanced-learn->imblearn) (1.16.5)\n",
      "Requirement already satisfied, skipping upgrade: threadpoolctl>=2.0.0 in e:\\programas\\anaconda\\lib\\site-packages (from scikit-learn>=0.23->imbalanced-learn->imblearn) (2.1.0)\n"
     ]
    }
   ],
   "source": [
    "!pip install imblearn --upgrade"
   ]
  },
  {
   "cell_type": "markdown",
   "metadata": {},
   "source": [
    "<hr>"
   ]
  },
  {
   "cell_type": "markdown",
   "metadata": {},
   "source": [
    "## Download dos conjuntos de dados em formato .csv"
   ]
  },
  {
   "cell_type": "code",
   "execution_count": 15,
   "metadata": {},
   "outputs": [],
   "source": [
    "import pandas as pd"
   ]
  },
  {
   "cell_type": "code",
   "execution_count": 16,
   "metadata": {},
   "outputs": [],
   "source": [
    "!pip install Cloudant\n",
    "\n",
    "from cloudant import  Cloudant\n",
    "\n",
    "u = '1792e406-7a44-480c-a923-a4c7399297da-bluemix'\n",
    "p = '5a3ee880f60b2ab37d8241b4424549a533202059a3fa107d0dfd56ffbc34c426'\n",
    "a = '1792e406-7a44-480c-a923-a4c7399297da-bluemix'\n",
    "client = Cloudant(u, p, account=a, connect=True, auto_renew=True)\n",
    "\n",
    "db = client['gama-iot']\n",
    "\n",
    "response = db.all_docs(limit=20000, include_docs=True)\n",
    "\n",
    "docs = []\n",
    "for r in response['rows']:\n",
    "    docs.append(r['doc'])\n",
    "type(docs)\n",
    "\n",
    "import pandas as pd\n",
    "pd.set_option('display.max_rows', None)\n",
    "\n",
    "df = pd.DataFrame(data=docs)\n",
    "\n",
    "dt = df.drop_duplicates()\n",
    "dt = dt.sort_values(by=['row'])\n",
    "\n",
    "dt.to_csv(r'meu_banco.csv', index = False)\n",
    "\n",
    "df_data_1 = pd.read_csv(r'meu_banco.csv')"
   ]
  },
  {
   "cell_type": "code",
   "execution_count": null,
   "metadata": {},
   "outputs": [],
   "source": []
  },
  {
   "cell_type": "code",
   "execution_count": 17,
   "metadata": {},
   "outputs": [
    {
     "data": {
      "text/html": [
       "<div>\n",
       "<style scoped>\n",
       "    .dataframe tbody tr th:only-of-type {\n",
       "        vertical-align: middle;\n",
       "    }\n",
       "\n",
       "    .dataframe tbody tr th {\n",
       "        vertical-align: top;\n",
       "    }\n",
       "\n",
       "    .dataframe thead th {\n",
       "        text-align: right;\n",
       "    }\n",
       "</style>\n",
       "<table border=\"1\" class=\"dataframe\">\n",
       "  <thead>\n",
       "    <tr style=\"text-align: right;\">\n",
       "      <th></th>\n",
       "      <th>_id</th>\n",
       "      <th>_rev</th>\n",
       "      <th>Tempo</th>\n",
       "      <th>Estação</th>\n",
       "      <th>LAT</th>\n",
       "      <th>LONG</th>\n",
       "      <th>Movimentação</th>\n",
       "      <th>Original_473</th>\n",
       "      <th>Original_269</th>\n",
       "      <th>Zero</th>\n",
       "      <th>Maçã-Verde</th>\n",
       "      <th>Tangerina</th>\n",
       "      <th>Citrus</th>\n",
       "      <th>Açaí-Guaraná</th>\n",
       "      <th>Pêssego</th>\n",
       "      <th>TARGET</th>\n",
       "      <th>row</th>\n",
       "    </tr>\n",
       "  </thead>\n",
       "  <tbody>\n",
       "    <tr>\n",
       "      <td>18494</td>\n",
       "      <td>602ce3e17beab8a6c50dd92c54ee7e08</td>\n",
       "      <td>1-e496cdbefbaf8c226c304099e095cb10</td>\n",
       "      <td>2019-12-27</td>\n",
       "      <td>Hospital São Paulo</td>\n",
       "      <td>-23.5984</td>\n",
       "      <td>-46.6455</td>\n",
       "      <td>26236</td>\n",
       "      <td>43</td>\n",
       "      <td>52</td>\n",
       "      <td>17</td>\n",
       "      <td>33</td>\n",
       "      <td>18</td>\n",
       "      <td>21</td>\n",
       "      <td>5</td>\n",
       "      <td>35</td>\n",
       "      <td>REABASTECER</td>\n",
       "      <td>17013</td>\n",
       "    </tr>\n",
       "    <tr>\n",
       "      <td>18495</td>\n",
       "      <td>6bfa1c588abbd754ef26e9c49e0098a5</td>\n",
       "      <td>1-391d9546fda7a126f5e6b243852c6ee2</td>\n",
       "      <td>2019-12-28</td>\n",
       "      <td>Hospital São Paulo</td>\n",
       "      <td>-23.5984</td>\n",
       "      <td>-46.6455</td>\n",
       "      <td>27174</td>\n",
       "      <td>34</td>\n",
       "      <td>50</td>\n",
       "      <td>9</td>\n",
       "      <td>28</td>\n",
       "      <td>15</td>\n",
       "      <td>16</td>\n",
       "      <td>43</td>\n",
       "      <td>32</td>\n",
       "      <td>NORMAL</td>\n",
       "      <td>17014</td>\n",
       "    </tr>\n",
       "    <tr>\n",
       "      <td>18496</td>\n",
       "      <td>a15e0e2c3b68aa19ecace6eb6c31a0d5</td>\n",
       "      <td>1-95c490eb796f4c45672e2692fe912cc9</td>\n",
       "      <td>2019-12-29</td>\n",
       "      <td>Hospital São Paulo</td>\n",
       "      <td>-23.5984</td>\n",
       "      <td>-46.6455</td>\n",
       "      <td>26877</td>\n",
       "      <td>22</td>\n",
       "      <td>47</td>\n",
       "      <td>65</td>\n",
       "      <td>27</td>\n",
       "      <td>11</td>\n",
       "      <td>16</td>\n",
       "      <td>39</td>\n",
       "      <td>30</td>\n",
       "      <td>NORMAL</td>\n",
       "      <td>17015</td>\n",
       "    </tr>\n",
       "    <tr>\n",
       "      <td>18497</td>\n",
       "      <td>5868c552e3dc194a6e14c4f9fe77f7ae</td>\n",
       "      <td>1-c00d7d7548801a84416ee24f453cba41</td>\n",
       "      <td>2019-12-30</td>\n",
       "      <td>Hospital São Paulo</td>\n",
       "      <td>-23.5984</td>\n",
       "      <td>-46.6455</td>\n",
       "      <td>26759</td>\n",
       "      <td>9</td>\n",
       "      <td>42</td>\n",
       "      <td>56</td>\n",
       "      <td>22</td>\n",
       "      <td>8</td>\n",
       "      <td>10</td>\n",
       "      <td>35</td>\n",
       "      <td>26</td>\n",
       "      <td>NORMAL</td>\n",
       "      <td>17016</td>\n",
       "    </tr>\n",
       "    <tr>\n",
       "      <td>18498</td>\n",
       "      <td>7ca31920c58ace710c419f6232ba7c0e</td>\n",
       "      <td>1-c00d7d7548801a84416ee24f453cba41</td>\n",
       "      <td>2019-12-30</td>\n",
       "      <td>Hospital São Paulo</td>\n",
       "      <td>-23.5984</td>\n",
       "      <td>-46.6455</td>\n",
       "      <td>26759</td>\n",
       "      <td>9</td>\n",
       "      <td>42</td>\n",
       "      <td>56</td>\n",
       "      <td>22</td>\n",
       "      <td>8</td>\n",
       "      <td>10</td>\n",
       "      <td>35</td>\n",
       "      <td>26</td>\n",
       "      <td>NORMAL</td>\n",
       "      <td>17016</td>\n",
       "    </tr>\n",
       "  </tbody>\n",
       "</table>\n",
       "</div>"
      ],
      "text/plain": [
       "                                    _id                                _rev  \\\n",
       "18494  602ce3e17beab8a6c50dd92c54ee7e08  1-e496cdbefbaf8c226c304099e095cb10   \n",
       "18495  6bfa1c588abbd754ef26e9c49e0098a5  1-391d9546fda7a126f5e6b243852c6ee2   \n",
       "18496  a15e0e2c3b68aa19ecace6eb6c31a0d5  1-95c490eb796f4c45672e2692fe912cc9   \n",
       "18497  5868c552e3dc194a6e14c4f9fe77f7ae  1-c00d7d7548801a84416ee24f453cba41   \n",
       "18498  7ca31920c58ace710c419f6232ba7c0e  1-c00d7d7548801a84416ee24f453cba41   \n",
       "\n",
       "            Tempo             Estação      LAT     LONG  Movimentação  \\\n",
       "18494  2019-12-27  Hospital São Paulo -23.5984 -46.6455         26236   \n",
       "18495  2019-12-28  Hospital São Paulo -23.5984 -46.6455         27174   \n",
       "18496  2019-12-29  Hospital São Paulo -23.5984 -46.6455         26877   \n",
       "18497  2019-12-30  Hospital São Paulo -23.5984 -46.6455         26759   \n",
       "18498  2019-12-30  Hospital São Paulo -23.5984 -46.6455         26759   \n",
       "\n",
       "       Original_473  Original_269  Zero  Maçã-Verde  Tangerina  Citrus  \\\n",
       "18494            43            52    17          33         18      21   \n",
       "18495            34            50     9          28         15      16   \n",
       "18496            22            47    65          27         11      16   \n",
       "18497             9            42    56          22          8      10   \n",
       "18498             9            42    56          22          8      10   \n",
       "\n",
       "       Açaí-Guaraná  Pêssego       TARGET    row  \n",
       "18494             5       35  REABASTECER  17013  \n",
       "18495            43       32       NORMAL  17014  \n",
       "18496            39       30       NORMAL  17015  \n",
       "18497            35       26       NORMAL  17016  \n",
       "18498            35       26       NORMAL  17016  "
      ]
     },
     "execution_count": 17,
     "metadata": {},
     "output_type": "execute_result"
    }
   ],
   "source": [
    "df_training_dataset = df_data_1\n",
    "df_training_dataset.tail()"
   ]
  },
  {
   "cell_type": "markdown",
   "metadata": {},
   "source": [
    "Sobre o arquivo \"training_dataset.csv\", temos algumas informações gerais sobre os pontos de vendas da TNT:\n",
    "\n",
    "**Tempo**\n",
    "\n",
    "**Estação**\n",
    "\n",
    "**LAT**\n",
    "\n",
    "**LONG**\n",
    "\n",
    "**Movimentação**\n",
    "\n",
    "**Original_473**\n",
    "\n",
    "**Original_269**\n",
    "\n",
    "**Zero**\n",
    "\n",
    "**Maçã-Verde**\n",
    "\n",
    "**Tangerina**\n",
    "\n",
    "**Citrus**\n",
    "\n",
    "**Açaí-Guaraná**\n",
    "\n",
    "**Pêssego**\n",
    "\n",
    "**TARGET**"
   ]
  },
  {
   "cell_type": "code",
   "execution_count": 18,
   "metadata": {},
   "outputs": [
    {
     "name": "stdout",
     "output_type": "stream",
     "text": [
      "<class 'pandas.core.frame.DataFrame'>\n",
      "RangeIndex: 18499 entries, 0 to 18498\n",
      "Data columns (total 17 columns):\n",
      "_id             18499 non-null object\n",
      "_rev            18499 non-null object\n",
      "Tempo           18499 non-null object\n",
      "Estação         18499 non-null object\n",
      "LAT             18499 non-null float64\n",
      "LONG            18499 non-null float64\n",
      "Movimentação    18499 non-null int64\n",
      "Original_473    18499 non-null int64\n",
      "Original_269    18499 non-null int64\n",
      "Zero            18499 non-null int64\n",
      "Maçã-Verde      18499 non-null int64\n",
      "Tangerina       18499 non-null int64\n",
      "Citrus          18499 non-null int64\n",
      "Açaí-Guaraná    18499 non-null int64\n",
      "Pêssego         18499 non-null int64\n",
      "TARGET          18499 non-null object\n",
      "row             18499 non-null int64\n",
      "dtypes: float64(2), int64(10), object(5)\n",
      "memory usage: 2.4+ MB\n"
     ]
    }
   ],
   "source": [
    "df_training_dataset.info()"
   ]
  },
  {
   "cell_type": "code",
   "execution_count": 19,
   "metadata": {},
   "outputs": [
    {
     "data": {
      "text/plain": [
       "_id             18499\n",
       "_rev            11521\n",
       "Tempo             720\n",
       "Estação            25\n",
       "LAT                25\n",
       "LONG               25\n",
       "Movimentação    10531\n",
       "Original_473       81\n",
       "Original_269       65\n",
       "Zero               63\n",
       "Maçã-Verde         43\n",
       "Tangerina          42\n",
       "Citrus             43\n",
       "Açaí-Guaraná       42\n",
       "Pêssego            42\n",
       "TARGET              2\n",
       "row             11521\n",
       "dtype: int64"
      ]
     },
     "execution_count": 19,
     "metadata": {},
     "output_type": "execute_result"
    }
   ],
   "source": [
    "df_training_dataset.nunique()"
   ]
  },
  {
   "cell_type": "markdown",
   "metadata": {},
   "source": [
    "<hr>\n",
    "\n",
    "## Detalhamento do desafio: classificação binária\n",
    "\n",
    "Este é um desafio cujo objetivo de negócio é a segmentação dos usuários de aplicativo de um banco. Para tal, podemos utilizar duas abordagens: aprendizado de máquina supervisionado (classificação) ou não-supervisionado (clustering). Neste desafio será aplicada a classificação, pois é disponível um dataset já com \"labels\", ou em outras palavras, já com exemplos de dados juntamente com a variável alvo.\n",
    "\n",
    "Na biblioteca scikit-learn temos diversos algoritmos para classificação. O participante é livre para utilizar o framework que desejar para completar esse desafio.\n",
    "\n",
    "Neste notebook será mostrado um exeplo de uso do algoritmo \"Decision Tree\" para classificar parte dos estudantes em seis diferentes perfís."
   ]
  },
  {
   "cell_type": "markdown",
   "metadata": {},
   "source": [
    "# Atenção!\n",
    "\n",
    "A coluna-alvo neste desafio é a coluna ``TARGET``"
   ]
  },
  {
   "cell_type": "markdown",
   "metadata": {},
   "source": [
    "<hr>"
   ]
  },
  {
   "cell_type": "code",
   "execution_count": null,
   "metadata": {},
   "outputs": [],
   "source": []
  },
  {
   "cell_type": "code",
   "execution_count": null,
   "metadata": {},
   "outputs": [],
   "source": []
  },
  {
   "cell_type": "code",
   "execution_count": null,
   "metadata": {},
   "outputs": [],
   "source": []
  },
  {
   "cell_type": "markdown",
   "metadata": {},
   "source": [
    "## Pre-processando o dataset antes do treinamento"
   ]
  },
  {
   "cell_type": "markdown",
   "metadata": {},
   "source": [
    "### Processando valores NaN com o SimpleImputer do sklearn\n",
    "\n",
    "Para os valores NaN, usaremos a substituição pela constante 0 como **exemplo**.\n",
    "\n",
    "Você pode escolher a estratégia que achar melhor para tratar os valores nulos :)\n",
    "\n",
    "Docs: https://scikit-learn.org/stable/modules/generated/sklearn.impute.SimpleImputer.html?highlight=simpleimputer#sklearn.impute.SimpleImputer"
   ]
  },
  {
   "cell_type": "code",
   "execution_count": 20,
   "metadata": {},
   "outputs": [],
   "source": [
    "from sklearn.impute import SimpleImputer\n",
    "import numpy as np\n",
    "\n",
    "\n",
    "impute_zeros = SimpleImputer(\n",
    "    missing_values=np.nan,\n",
    "    strategy='constant',\n",
    "    fill_value=0,\n",
    "    verbose=0,\n",
    "    copy=True\n",
    ")"
   ]
  },
  {
   "cell_type": "code",
   "execution_count": 21,
   "metadata": {},
   "outputs": [
    {
     "name": "stdout",
     "output_type": "stream",
     "text": [
      "Valores nulos no df_training_dataset antes da transformação SimpleImputer: \n",
      "\n",
      "_id             0\n",
      "_rev            0\n",
      "Tempo           0\n",
      "Estação         0\n",
      "LAT             0\n",
      "LONG            0\n",
      "Movimentação    0\n",
      "Original_473    0\n",
      "Original_269    0\n",
      "Zero            0\n",
      "Maçã-Verde      0\n",
      "Tangerina       0\n",
      "Citrus          0\n",
      "Açaí-Guaraná    0\n",
      "Pêssego         0\n",
      "TARGET          0\n",
      "row             0\n",
      "dtype: int64\n",
      "\n",
      "Valores nulos no df_training_dataset após a transformação SimpleImputer: \n",
      "\n",
      "_id             0\n",
      "_rev            0\n",
      "Tempo           0\n",
      "Estação         0\n",
      "LAT             0\n",
      "LONG            0\n",
      "Movimentação    0\n",
      "Original_473    0\n",
      "Original_269    0\n",
      "Zero            0\n",
      "Maçã-Verde      0\n",
      "Tangerina       0\n",
      "Citrus          0\n",
      "Açaí-Guaraná    0\n",
      "Pêssego         0\n",
      "TARGET          0\n",
      "row             0\n",
      "dtype: int64\n",
      "\n"
     ]
    }
   ],
   "source": [
    "# Exibindo os dados ausentes do conjunto de dados antes da primeira transformação (df)\n",
    "print(\"Valores nulos no df_training_dataset antes da transformação SimpleImputer: \\n\\n{}\\n\".format(df_training_dataset.isnull().sum(axis = 0)))\n",
    "\n",
    "# Aplicando a transformação ``SimpleImputer`` no conjunto de dados base\n",
    "impute_zeros.fit(X=df_training_dataset)\n",
    "\n",
    "# Reconstruindo um Pandas DataFrame com os resultados\n",
    "df_training_dataset_imputed = pd.DataFrame.from_records(\n",
    "    data=impute_zeros.transform(\n",
    "        X=df_training_dataset\n",
    "    ),\n",
    "    columns=df_training_dataset.columns\n",
    ")\n",
    "\n",
    "# Exibindo os dados ausentes do conjunto de dados após a primeira transformação (df)\n",
    "print(\"Valores nulos no df_training_dataset após a transformação SimpleImputer: \\n\\n{}\\n\".format(df_training_dataset_imputed.isnull().sum(axis = 0)))"
   ]
  },
  {
   "cell_type": "markdown",
   "metadata": {},
   "source": [
    "### Eliminando colunas indesejadas\n",
    "\n",
    "Vamos **demonstrar** abaixo como usar o método **DataFrame.drop()**.\n",
    "\n",
    "Docs: https://pandas.pydata.org/pandas-docs/stable/reference/api/pandas.DataFrame.drop.html"
   ]
  },
  {
   "cell_type": "code",
   "execution_count": 22,
   "metadata": {},
   "outputs": [
    {
     "data": {
      "text/html": [
       "<div>\n",
       "<style scoped>\n",
       "    .dataframe tbody tr th:only-of-type {\n",
       "        vertical-align: middle;\n",
       "    }\n",
       "\n",
       "    .dataframe tbody tr th {\n",
       "        vertical-align: top;\n",
       "    }\n",
       "\n",
       "    .dataframe thead th {\n",
       "        text-align: right;\n",
       "    }\n",
       "</style>\n",
       "<table border=\"1\" class=\"dataframe\">\n",
       "  <thead>\n",
       "    <tr style=\"text-align: right;\">\n",
       "      <th></th>\n",
       "      <th>_id</th>\n",
       "      <th>_rev</th>\n",
       "      <th>Tempo</th>\n",
       "      <th>Estação</th>\n",
       "      <th>LAT</th>\n",
       "      <th>LONG</th>\n",
       "      <th>Movimentação</th>\n",
       "      <th>Original_473</th>\n",
       "      <th>Original_269</th>\n",
       "      <th>Zero</th>\n",
       "      <th>Maçã-Verde</th>\n",
       "      <th>Tangerina</th>\n",
       "      <th>Citrus</th>\n",
       "      <th>Açaí-Guaraná</th>\n",
       "      <th>Pêssego</th>\n",
       "      <th>TARGET</th>\n",
       "      <th>row</th>\n",
       "    </tr>\n",
       "  </thead>\n",
       "  <tbody>\n",
       "    <tr>\n",
       "      <td>18494</td>\n",
       "      <td>602ce3e17beab8a6c50dd92c54ee7e08</td>\n",
       "      <td>1-e496cdbefbaf8c226c304099e095cb10</td>\n",
       "      <td>2019-12-27</td>\n",
       "      <td>Hospital São Paulo</td>\n",
       "      <td>-23.5984</td>\n",
       "      <td>-46.6455</td>\n",
       "      <td>26236</td>\n",
       "      <td>43</td>\n",
       "      <td>52</td>\n",
       "      <td>17</td>\n",
       "      <td>33</td>\n",
       "      <td>18</td>\n",
       "      <td>21</td>\n",
       "      <td>5</td>\n",
       "      <td>35</td>\n",
       "      <td>REABASTECER</td>\n",
       "      <td>17013</td>\n",
       "    </tr>\n",
       "    <tr>\n",
       "      <td>18495</td>\n",
       "      <td>6bfa1c588abbd754ef26e9c49e0098a5</td>\n",
       "      <td>1-391d9546fda7a126f5e6b243852c6ee2</td>\n",
       "      <td>2019-12-28</td>\n",
       "      <td>Hospital São Paulo</td>\n",
       "      <td>-23.5984</td>\n",
       "      <td>-46.6455</td>\n",
       "      <td>27174</td>\n",
       "      <td>34</td>\n",
       "      <td>50</td>\n",
       "      <td>9</td>\n",
       "      <td>28</td>\n",
       "      <td>15</td>\n",
       "      <td>16</td>\n",
       "      <td>43</td>\n",
       "      <td>32</td>\n",
       "      <td>NORMAL</td>\n",
       "      <td>17014</td>\n",
       "    </tr>\n",
       "    <tr>\n",
       "      <td>18496</td>\n",
       "      <td>a15e0e2c3b68aa19ecace6eb6c31a0d5</td>\n",
       "      <td>1-95c490eb796f4c45672e2692fe912cc9</td>\n",
       "      <td>2019-12-29</td>\n",
       "      <td>Hospital São Paulo</td>\n",
       "      <td>-23.5984</td>\n",
       "      <td>-46.6455</td>\n",
       "      <td>26877</td>\n",
       "      <td>22</td>\n",
       "      <td>47</td>\n",
       "      <td>65</td>\n",
       "      <td>27</td>\n",
       "      <td>11</td>\n",
       "      <td>16</td>\n",
       "      <td>39</td>\n",
       "      <td>30</td>\n",
       "      <td>NORMAL</td>\n",
       "      <td>17015</td>\n",
       "    </tr>\n",
       "    <tr>\n",
       "      <td>18497</td>\n",
       "      <td>5868c552e3dc194a6e14c4f9fe77f7ae</td>\n",
       "      <td>1-c00d7d7548801a84416ee24f453cba41</td>\n",
       "      <td>2019-12-30</td>\n",
       "      <td>Hospital São Paulo</td>\n",
       "      <td>-23.5984</td>\n",
       "      <td>-46.6455</td>\n",
       "      <td>26759</td>\n",
       "      <td>9</td>\n",
       "      <td>42</td>\n",
       "      <td>56</td>\n",
       "      <td>22</td>\n",
       "      <td>8</td>\n",
       "      <td>10</td>\n",
       "      <td>35</td>\n",
       "      <td>26</td>\n",
       "      <td>NORMAL</td>\n",
       "      <td>17016</td>\n",
       "    </tr>\n",
       "    <tr>\n",
       "      <td>18498</td>\n",
       "      <td>7ca31920c58ace710c419f6232ba7c0e</td>\n",
       "      <td>1-c00d7d7548801a84416ee24f453cba41</td>\n",
       "      <td>2019-12-30</td>\n",
       "      <td>Hospital São Paulo</td>\n",
       "      <td>-23.5984</td>\n",
       "      <td>-46.6455</td>\n",
       "      <td>26759</td>\n",
       "      <td>9</td>\n",
       "      <td>42</td>\n",
       "      <td>56</td>\n",
       "      <td>22</td>\n",
       "      <td>8</td>\n",
       "      <td>10</td>\n",
       "      <td>35</td>\n",
       "      <td>26</td>\n",
       "      <td>NORMAL</td>\n",
       "      <td>17016</td>\n",
       "    </tr>\n",
       "  </tbody>\n",
       "</table>\n",
       "</div>"
      ],
      "text/plain": [
       "                                    _id                                _rev  \\\n",
       "18494  602ce3e17beab8a6c50dd92c54ee7e08  1-e496cdbefbaf8c226c304099e095cb10   \n",
       "18495  6bfa1c588abbd754ef26e9c49e0098a5  1-391d9546fda7a126f5e6b243852c6ee2   \n",
       "18496  a15e0e2c3b68aa19ecace6eb6c31a0d5  1-95c490eb796f4c45672e2692fe912cc9   \n",
       "18497  5868c552e3dc194a6e14c4f9fe77f7ae  1-c00d7d7548801a84416ee24f453cba41   \n",
       "18498  7ca31920c58ace710c419f6232ba7c0e  1-c00d7d7548801a84416ee24f453cba41   \n",
       "\n",
       "            Tempo             Estação      LAT     LONG  Movimentação  \\\n",
       "18494  2019-12-27  Hospital São Paulo -23.5984 -46.6455         26236   \n",
       "18495  2019-12-28  Hospital São Paulo -23.5984 -46.6455         27174   \n",
       "18496  2019-12-29  Hospital São Paulo -23.5984 -46.6455         26877   \n",
       "18497  2019-12-30  Hospital São Paulo -23.5984 -46.6455         26759   \n",
       "18498  2019-12-30  Hospital São Paulo -23.5984 -46.6455         26759   \n",
       "\n",
       "       Original_473  Original_269  Zero  Maçã-Verde  Tangerina  Citrus  \\\n",
       "18494            43            52    17          33         18      21   \n",
       "18495            34            50     9          28         15      16   \n",
       "18496            22            47    65          27         11      16   \n",
       "18497             9            42    56          22          8      10   \n",
       "18498             9            42    56          22          8      10   \n",
       "\n",
       "       Açaí-Guaraná  Pêssego       TARGET    row  \n",
       "18494             5       35  REABASTECER  17013  \n",
       "18495            43       32       NORMAL  17014  \n",
       "18496            39       30       NORMAL  17015  \n",
       "18497            35       26       NORMAL  17016  \n",
       "18498            35       26       NORMAL  17016  "
      ]
     },
     "execution_count": 22,
     "metadata": {},
     "output_type": "execute_result"
    }
   ],
   "source": [
    "df_training_dataset_imputed.tail()"
   ]
  },
  {
   "cell_type": "code",
   "execution_count": 27,
   "metadata": {},
   "outputs": [],
   "source": [
    "df_training_dataset_rmcolumns = df_training_dataset_imputed.drop(columns=['Tempo', 'Estação', 'LAT', 'LONG', 'Movimentação','_id', '_rev', 'row'], inplace=False)"
   ]
  },
  {
   "cell_type": "code",
   "execution_count": 28,
   "metadata": {},
   "outputs": [
    {
     "data": {
      "text/html": [
       "<div>\n",
       "<style scoped>\n",
       "    .dataframe tbody tr th:only-of-type {\n",
       "        vertical-align: middle;\n",
       "    }\n",
       "\n",
       "    .dataframe tbody tr th {\n",
       "        vertical-align: top;\n",
       "    }\n",
       "\n",
       "    .dataframe thead th {\n",
       "        text-align: right;\n",
       "    }\n",
       "</style>\n",
       "<table border=\"1\" class=\"dataframe\">\n",
       "  <thead>\n",
       "    <tr style=\"text-align: right;\">\n",
       "      <th></th>\n",
       "      <th>Original_473</th>\n",
       "      <th>Original_269</th>\n",
       "      <th>Zero</th>\n",
       "      <th>Maçã-Verde</th>\n",
       "      <th>Tangerina</th>\n",
       "      <th>Citrus</th>\n",
       "      <th>Açaí-Guaraná</th>\n",
       "      <th>Pêssego</th>\n",
       "      <th>TARGET</th>\n",
       "    </tr>\n",
       "  </thead>\n",
       "  <tbody>\n",
       "    <tr>\n",
       "      <td>18494</td>\n",
       "      <td>43</td>\n",
       "      <td>52</td>\n",
       "      <td>17</td>\n",
       "      <td>33</td>\n",
       "      <td>18</td>\n",
       "      <td>21</td>\n",
       "      <td>5</td>\n",
       "      <td>35</td>\n",
       "      <td>REABASTECER</td>\n",
       "    </tr>\n",
       "    <tr>\n",
       "      <td>18495</td>\n",
       "      <td>34</td>\n",
       "      <td>50</td>\n",
       "      <td>9</td>\n",
       "      <td>28</td>\n",
       "      <td>15</td>\n",
       "      <td>16</td>\n",
       "      <td>43</td>\n",
       "      <td>32</td>\n",
       "      <td>NORMAL</td>\n",
       "    </tr>\n",
       "    <tr>\n",
       "      <td>18496</td>\n",
       "      <td>22</td>\n",
       "      <td>47</td>\n",
       "      <td>65</td>\n",
       "      <td>27</td>\n",
       "      <td>11</td>\n",
       "      <td>16</td>\n",
       "      <td>39</td>\n",
       "      <td>30</td>\n",
       "      <td>NORMAL</td>\n",
       "    </tr>\n",
       "    <tr>\n",
       "      <td>18497</td>\n",
       "      <td>9</td>\n",
       "      <td>42</td>\n",
       "      <td>56</td>\n",
       "      <td>22</td>\n",
       "      <td>8</td>\n",
       "      <td>10</td>\n",
       "      <td>35</td>\n",
       "      <td>26</td>\n",
       "      <td>NORMAL</td>\n",
       "    </tr>\n",
       "    <tr>\n",
       "      <td>18498</td>\n",
       "      <td>9</td>\n",
       "      <td>42</td>\n",
       "      <td>56</td>\n",
       "      <td>22</td>\n",
       "      <td>8</td>\n",
       "      <td>10</td>\n",
       "      <td>35</td>\n",
       "      <td>26</td>\n",
       "      <td>NORMAL</td>\n",
       "    </tr>\n",
       "  </tbody>\n",
       "</table>\n",
       "</div>"
      ],
      "text/plain": [
       "       Original_473  Original_269  Zero  Maçã-Verde  Tangerina  Citrus  \\\n",
       "18494            43            52    17          33         18      21   \n",
       "18495            34            50     9          28         15      16   \n",
       "18496            22            47    65          27         11      16   \n",
       "18497             9            42    56          22          8      10   \n",
       "18498             9            42    56          22          8      10   \n",
       "\n",
       "       Açaí-Guaraná  Pêssego       TARGET  \n",
       "18494             5       35  REABASTECER  \n",
       "18495            43       32       NORMAL  \n",
       "18496            39       30       NORMAL  \n",
       "18497            35       26       NORMAL  \n",
       "18498            35       26       NORMAL  "
      ]
     },
     "execution_count": 28,
     "metadata": {},
     "output_type": "execute_result"
    }
   ],
   "source": [
    "df_training_dataset_rmcolumns.tail()"
   ]
  },
  {
   "cell_type": "markdown",
   "metadata": {},
   "source": [
    "# Atenção!\n",
    "\n",
    "As colunas removidas acima são apenas para fim de exemplo, você pode usar as colunas que quiser e inclusive criar novas colunas com dados que achar importantes!\n"
   ]
  },
  {
   "cell_type": "markdown",
   "metadata": {},
   "source": [
    "### Tratamento de de variáveis categóricas\n",
    "\n",
    "Como mencionado antes, os computadores não são bons com variáveis \"categóricas\" (ou strings).\n",
    "\n",
    "Dado uma coluna com variável categórica, o que podemos realizar é a codificação dessa coluna em múltiplas colunas contendo variáveis binárias. Esse processo é chamado de \"one-hot-encoding\" ou \"dummy encoding\". Se você não é familiarizado com esses termos, você pode pesquisar mais sobre isso na internet :)"
   ]
  },
  {
   "cell_type": "code",
   "execution_count": 33,
   "metadata": {},
   "outputs": [
    {
     "data": {
      "text/html": [
       "<div>\n",
       "<style scoped>\n",
       "    .dataframe tbody tr th:only-of-type {\n",
       "        vertical-align: middle;\n",
       "    }\n",
       "\n",
       "    .dataframe tbody tr th {\n",
       "        vertical-align: top;\n",
       "    }\n",
       "\n",
       "    .dataframe thead th {\n",
       "        text-align: right;\n",
       "    }\n",
       "</style>\n",
       "<table border=\"1\" class=\"dataframe\">\n",
       "  <thead>\n",
       "    <tr style=\"text-align: right;\">\n",
       "      <th></th>\n",
       "      <th>Original_473</th>\n",
       "      <th>Original_269</th>\n",
       "      <th>Zero</th>\n",
       "      <th>Maçã-Verde</th>\n",
       "      <th>Tangerina</th>\n",
       "      <th>Citrus</th>\n",
       "      <th>Açaí-Guaraná</th>\n",
       "      <th>Pêssego</th>\n",
       "      <th>TARGET</th>\n",
       "    </tr>\n",
       "  </thead>\n",
       "  <tbody>\n",
       "    <tr>\n",
       "      <td>18494</td>\n",
       "      <td>43</td>\n",
       "      <td>52</td>\n",
       "      <td>17</td>\n",
       "      <td>33</td>\n",
       "      <td>18</td>\n",
       "      <td>21</td>\n",
       "      <td>5</td>\n",
       "      <td>35</td>\n",
       "      <td>REABASTECER</td>\n",
       "    </tr>\n",
       "    <tr>\n",
       "      <td>18495</td>\n",
       "      <td>34</td>\n",
       "      <td>50</td>\n",
       "      <td>9</td>\n",
       "      <td>28</td>\n",
       "      <td>15</td>\n",
       "      <td>16</td>\n",
       "      <td>43</td>\n",
       "      <td>32</td>\n",
       "      <td>NORMAL</td>\n",
       "    </tr>\n",
       "    <tr>\n",
       "      <td>18496</td>\n",
       "      <td>22</td>\n",
       "      <td>47</td>\n",
       "      <td>65</td>\n",
       "      <td>27</td>\n",
       "      <td>11</td>\n",
       "      <td>16</td>\n",
       "      <td>39</td>\n",
       "      <td>30</td>\n",
       "      <td>NORMAL</td>\n",
       "    </tr>\n",
       "    <tr>\n",
       "      <td>18497</td>\n",
       "      <td>9</td>\n",
       "      <td>42</td>\n",
       "      <td>56</td>\n",
       "      <td>22</td>\n",
       "      <td>8</td>\n",
       "      <td>10</td>\n",
       "      <td>35</td>\n",
       "      <td>26</td>\n",
       "      <td>NORMAL</td>\n",
       "    </tr>\n",
       "    <tr>\n",
       "      <td>18498</td>\n",
       "      <td>9</td>\n",
       "      <td>42</td>\n",
       "      <td>56</td>\n",
       "      <td>22</td>\n",
       "      <td>8</td>\n",
       "      <td>10</td>\n",
       "      <td>35</td>\n",
       "      <td>26</td>\n",
       "      <td>NORMAL</td>\n",
       "    </tr>\n",
       "  </tbody>\n",
       "</table>\n",
       "</div>"
      ],
      "text/plain": [
       "       Original_473  Original_269  Zero  Maçã-Verde  Tangerina  Citrus  \\\n",
       "18494            43            52    17          33         18      21   \n",
       "18495            34            50     9          28         15      16   \n",
       "18496            22            47    65          27         11      16   \n",
       "18497             9            42    56          22          8      10   \n",
       "18498             9            42    56          22          8      10   \n",
       "\n",
       "       Açaí-Guaraná  Pêssego       TARGET  \n",
       "18494             5       35  REABASTECER  \n",
       "18495            43       32       NORMAL  \n",
       "18496            39       30       NORMAL  \n",
       "18497            35       26       NORMAL  \n",
       "18498            35       26       NORMAL  "
      ]
     },
     "execution_count": 33,
     "metadata": {},
     "output_type": "execute_result"
    }
   ],
   "source": [
    "# Tratando variáveis categóricas com o método Pandas ``get_dummies()''\n",
    "# df_training = pd.get_dummies(df_training_dataset_rmcolumns, columns=['TARGET'])\n",
    "df_training = df_training_dataset_rmcolumns\n",
    "df_training.tail()"
   ]
  },
  {
   "cell_type": "markdown",
   "metadata": {},
   "source": [
    "# Atenção!\n",
    "\n",
    "A coluna **TARGET** deve ser mantida como uma string. Você não precisa processar/codificar a variável-alvo."
   ]
  },
  {
   "cell_type": "markdown",
   "metadata": {},
   "source": [
    "<hr>"
   ]
  },
  {
   "cell_type": "markdown",
   "metadata": {},
   "source": [
    "## Treinando um classificador com base em uma árvore de decisão"
   ]
  },
  {
   "cell_type": "markdown",
   "metadata": {},
   "source": [
    "### Selecionando FEATURES e definindo a variável TARGET"
   ]
  },
  {
   "cell_type": "code",
   "execution_count": 34,
   "metadata": {},
   "outputs": [
    {
     "data": {
      "text/plain": [
       "Index(['Original_473', 'Original_269', 'Zero', 'Maçã-Verde', 'Tangerina',\n",
       "       'Citrus', 'Açaí-Guaraná', 'Pêssego', 'TARGET'],\n",
       "      dtype='object')"
      ]
     },
     "execution_count": 34,
     "metadata": {},
     "output_type": "execute_result"
    }
   ],
   "source": [
    "df_training.columns"
   ]
  },
  {
   "cell_type": "code",
   "execution_count": 35,
   "metadata": {},
   "outputs": [],
   "source": [
    "features = df_training[\n",
    "    [\n",
    "        'Original_473', 'Original_269', 'Zero', 'Maçã-Verde', 'Tangerina',\n",
    "       'Citrus', 'Açaí-Guaraná', 'Pêssego'\n",
    "    ]\n",
    "]\n",
    "target = df_training['TARGET']  ## NÃO TROQUE O NOME DA VARIÁVEL TARGET."
   ]
  },
  {
   "cell_type": "markdown",
   "metadata": {},
   "source": [
    "### Dividindo nosso conjunto de dados em conjuntos de treinamento e teste"
   ]
  },
  {
   "cell_type": "code",
   "execution_count": 59,
   "metadata": {},
   "outputs": [],
   "source": [
    "from sklearn.model_selection import train_test_split\n",
    "from xgboost import XGBClassifier"
   ]
  },
  {
   "cell_type": "code",
   "execution_count": 60,
   "metadata": {},
   "outputs": [],
   "source": [
    "from imblearn.over_sampling import SMOTE\n",
    "\n",
    "smote = SMOTE(n_jobs=2, sampling_strategy='all', random_state=None)"
   ]
  },
  {
   "cell_type": "code",
   "execution_count": 97,
   "metadata": {},
   "outputs": [],
   "source": [
    "from sklearn.model_selection import train_test_split\n",
    "\n",
    "\n",
    "X_train, X_test, y_train, y_test = train_test_split(features, target, test_size=0.33, random_state=39)\n",
    "X_trainb, y_trainb = smote.fit_resample(X_train, y_train)"
   ]
  },
  {
   "cell_type": "markdown",
   "metadata": {},
   "source": [
    "### Treinando uma árvore de decisão"
   ]
  },
  {
   "cell_type": "code",
   "execution_count": 125,
   "metadata": {
    "scrolled": true
   },
   "outputs": [
    {
     "data": {
      "text/plain": [
       "XGBClassifier(base_score=0.5, booster='gbtree', colsample_bylevel=1,\n",
       "              colsample_bynode=1, colsample_bytree=1, gamma=0, gpu_id=-1,\n",
       "              importance_type='gain', interaction_constraints='',\n",
       "              learning_rate=0.1, max_delta_step=0, max_depth=20,\n",
       "              min_child_weight=15, missing=nan, monotone_constraints='()',\n",
       "              n_estimators=200, n_jobs=2, nthread=2, num_parallel_tree=1,\n",
       "              random_state=0, reg_alpha=0, reg_lambda=1, scale_pos_weight=1,\n",
       "              subsample=0.55, tree_method='exact', validate_parameters=1,\n",
       "              verbosity=None)"
      ]
     },
     "execution_count": 125,
     "metadata": {},
     "output_type": "execute_result"
    }
   ],
   "source": [
    "xgb = XGBClassifier(learning_rate=0.10, max_depth=20, min_child_weight=15, n_estimators=200, nthread=2, subsample=0.55)\n",
    "\n",
    "xgb.fit(X_train, y_train)"
   ]
  },
  {
   "cell_type": "markdown",
   "metadata": {},
   "source": [
    "### Fazendo previsões na amostra de teste"
   ]
  },
  {
   "cell_type": "code",
   "execution_count": 126,
   "metadata": {},
   "outputs": [
    {
     "name": "stdout",
     "output_type": "stream",
     "text": [
      "['NORMAL' 'REABASTECER' 'NORMAL' ... 'NORMAL' 'REABASTECER' 'NORMAL']\n"
     ]
    }
   ],
   "source": [
    "y_pred = xgb.predict(X_test)\n",
    "print(y_pred)"
   ]
  },
  {
   "cell_type": "code",
   "execution_count": 127,
   "metadata": {},
   "outputs": [],
   "source": [
    "from sklearn.metrics import accuracy_score"
   ]
  },
  {
   "cell_type": "code",
   "execution_count": 128,
   "metadata": {},
   "outputs": [
    {
     "data": {
      "text/plain": [
       "0.843079443079443"
      ]
     },
     "execution_count": 128,
     "metadata": {},
     "output_type": "execute_result"
    }
   ],
   "source": [
    "accuracy_score(y_test, y_pred)"
   ]
  },
  {
   "cell_type": "markdown",
   "metadata": {},
   "source": [
    "### Analisando a qualidade do modelo através da matriz de confusão"
   ]
  },
  {
   "cell_type": "code",
   "execution_count": 129,
   "metadata": {},
   "outputs": [],
   "source": [
    "import matplotlib.pyplot as plt\n",
    "import numpy as np\n",
    "import itertools\n",
    "\n",
    "\n",
    "def plot_confusion_matrix(cm, target_names, title='Confusion matrix', cmap=None, normalize=True):\n",
    "    accuracy = np.trace(cm) / float(np.sum(cm))\n",
    "    misclass = 1 - accuracy\n",
    "    if cmap is None:\n",
    "        cmap = plt.get_cmap('Blues')\n",
    "    plt.figure(figsize=(8, 6))\n",
    "    plt.imshow(cm, interpolation='nearest', cmap=cmap)\n",
    "    plt.title(title)\n",
    "    plt.colorbar()\n",
    "    if target_names is not None:\n",
    "        tick_marks = np.arange(len(target_names))\n",
    "        plt.xticks(tick_marks, target_names, rotation=45)\n",
    "        plt.yticks(tick_marks, target_names)\n",
    "    if normalize:\n",
    "        cm = cm.astype('float') / cm.sum(axis=1)[:, np.newaxis]\n",
    "    thresh = cm.max() / 1.5 if normalize else cm.max() / 2\n",
    "    for i, j in itertools.product(range(cm.shape[0]), range(cm.shape[1])):\n",
    "        if normalize:\n",
    "            plt.text(j, i, \"{:0.2f}\".format(cm[i, j]),\n",
    "                     horizontalalignment=\"center\",\n",
    "                     color=\"white\" if cm[i, j] > thresh else \"black\")\n",
    "        else:\n",
    "            plt.text(j, i, \"{:,}\".format(cm[i, j]),\n",
    "                     horizontalalignment=\"center\",\n",
    "                     color=\"white\" if cm[i, j] > thresh else \"black\")\n",
    "    plt.tight_layout()\n",
    "    plt.ylabel('True label')\n",
    "    plt.xlabel('Predicted label\\naccuracy={:0.4f}; misclass={:0.4f}'.format(accuracy, misclass))\n",
    "    plt.show()"
   ]
  },
  {
   "cell_type": "code",
   "execution_count": 130,
   "metadata": {},
   "outputs": [
    {
     "data": {
      "image/png": "[encoded data removed]",
      "text/plain": [
       "<Figure size 576x432 with 2 Axes>"
      ]
     },
     "metadata": {
      "needs_background": "light"
     },
     "output_type": "display_data"
    }
   ],
   "source": [
    "from sklearn.metrics import confusion_matrix\n",
    "\n",
    "\n",
    "plot_confusion_matrix(confusion_matrix(y_test, y_pred), ['NORMAL', 'REABASTECER'])"
   ]
  },
  {
   "cell_type": "markdown",
   "metadata": {},
   "source": [
    "<hr>"
   ]
  },
  {
   "cell_type": "markdown",
   "metadata": {},
   "source": [
    "## Scoring dos dados necessários para entregar a solução"
   ]
  },
  {
   "cell_type": "markdown",
   "metadata": {},
   "source": [
    "Como entrega da sua solução, esperamos os resultados classificados no seguinte dataset chamado \"to_be_scored.csv\":"
   ]
  },
  {
   "cell_type": "markdown",
   "metadata": {},
   "source": [
    "### Download da \"folha de respostas\""
   ]
  },
  {
   "cell_type": "code",
   "execution_count": null,
   "metadata": {
    "scrolled": false
   },
   "outputs": [],
   "source": [
    "!wget --no-check-certificate --content-disposition https://gitlab.com/JoaoPedroPP/datasets/-/raw/master/ntn/to_be_scored.csv\n",
    "df_to_be_scored = pd.read_csv(r'to_be_scored.csv')\n",
    "df_to_be_scored.tail()"
   ]
  },
  {
   "cell_type": "code",
   "execution_count": null,
   "metadata": {},
   "outputs": [],
   "source": [
    "df_to_be_scored = pd.read_csv('to_be_scored.csv')\n",
    "df_to_be_scored.tail()"
   ]
  },
  {
   "cell_type": "markdown",
   "metadata": {},
   "source": [
    "# Atenção!\n",
    "\n",
    "O dataframe ``to_be_scored`` é a sua \"folha de respostas\". Note que a coluna \"TARGET\" não existe nessa amostra, que não pode ser então utilizada para treino de modelos de aprendizado supervisionado."
   ]
  },
  {
   "cell_type": "code",
   "execution_count": null,
   "metadata": {
    "scrolled": true
   },
   "outputs": [],
   "source": [
    "df_to_be_scored.info()"
   ]
  },
  {
   "cell_type": "markdown",
   "metadata": {},
   "source": [
    "<hr>\n",
    "\n",
    "# Atenção!\n",
    "\n",
    "# Para poder aplicar seu modelo e classificar a folha de respostas, você precisa primeiro aplicar as mesmas transformações com colunas que você aplicou no dataset de treino.\n",
    "\n",
    "# Não remova ou adicione linhas na folha de respostas. \n",
    "\n",
    "# Não altere a ordem das linhas na folha de respostas.\n",
    "\n",
    "# Ao final, as 1000 entradas devem estar classificadas, com os valores previstos em uma coluna chamada \"target\"\n",
    "\n",
    "<hr>"
   ]
  },
  {
   "cell_type": "markdown",
   "metadata": {},
   "source": [
    "Na célula abaixo, repetimos rapidamente os mesmos passos de pré-processamento usados no exemplo dado com árvore de decisão"
   ]
  },
  {
   "cell_type": "code",
   "execution_count": null,
   "metadata": {},
   "outputs": [],
   "source": [
    "# 1 - Removendo linhas com valores NaN\n",
    "df_to_be_scored_1 = df_to_be_scored.dropna(axis='index', how='any', subset=['Tempo', 'Estação', 'LAT', 'LONG', 'Movimentação', 'Original_473', 'Original_269', 'Zero', 'Maçã-Verde', 'Tangerina', 'Citrus', 'Açaí-Guaraná', 'Pêssego'])\n",
    "\n",
    "# 2 - Inputando zeros nos valores faltantes\n",
    "impute_zeros.fit(X=df_to_be_scored_1)\n",
    "df_to_be_scored_2 = pd.DataFrame.from_records(\n",
    "    data=impute_zeros.transform(\n",
    "        X=df_to_be_scored_1\n",
    "    ),\n",
    "    columns=df_to_be_scored_1.columns\n",
    ")\n",
    "\n",
    "# 3 - Remoção de colunas\n",
    "df_to_be_scored_3 = df_to_be_scored_2.drop(columns=['Tempo', 'Estação', 'LAT', 'LONG', 'Movimentação','_id', '_rev', 'row'], inplace=False)\n",
    "\n",
    "# 4 - Encoding com \"dummy variables\" (se necessário)\n",
    "# df_to_be_scored_4 = pd.get_dummies(df_to_be_scored_3, columns=['Váriavel com dummy'])\n",
    "df_to_be_scored_4 = df_to_be_scored_3\n",
    "\n",
    "df_to_be_scored_4.tail()"
   ]
  },
  {
   "cell_type": "markdown",
   "metadata": {},
   "source": [
    "<hr>\n",
    "\n",
    "Pode ser verificado abaixo que as colunas da folha de resposta agora são idênticas às que foram usadas para treinar o modelo:"
   ]
  },
  {
   "cell_type": "code",
   "execution_count": null,
   "metadata": {},
   "outputs": [],
   "source": [
    "df_training[\n",
    "    [\n",
    "        'Original_473', 'Original_269', 'Zero', 'Maçã-Verde', 'Tangerina',\n",
    "       'Citrus', 'Açaí-Guaraná', 'Pêssego'\n",
    "    ]\n",
    "].columns"
   ]
  },
  {
   "cell_type": "code",
   "execution_count": null,
   "metadata": {},
   "outputs": [],
   "source": [
    "df_to_be_scored_4.columns"
   ]
  },
  {
   "cell_type": "markdown",
   "metadata": {},
   "source": [
    "# Atenção\n",
    "\n",
    "Para todas colunas que não existirem no \"df_to_be_scored\", você pode usar a técnica abaixo para adicioná-las:"
   ]
  },
  {
   "cell_type": "code",
   "execution_count": null,
   "metadata": {
    "scrolled": false
   },
   "outputs": [],
   "source": [
    "y_pred = xgb.predict(df_to_be_scored_4)\n",
    "df_to_be_scored_4['TARGET'] = y_pred\n",
    "df_to_be_scored_4.tail()"
   ]
  },
  {
   "cell_type": "markdown",
   "metadata": {},
   "source": [
    "### Salvando a folha de respostas como um arquivo .csv para ser submetido"
   ]
  },
  {
   "cell_type": "code",
   "execution_count": null,
   "metadata": {},
   "outputs": [],
   "source": [
    "project.save_data(file_name=\"results.csv\", data=df_to_be_scored_4.to_csv(index=False))"
   ]
  },
  {
   "cell_type": "markdown",
   "metadata": {},
   "source": [
    "# Atenção\n",
    "\n",
    "# A execução da célula acima irá criar um novo \"data asset\" no seu projeto no Watson Studio. Você precisará realizar o download deste arquivo juntamente com este notebook e criar um arquivo zip com os arquivos **results.csv** e **notebook.ipynb** para submissão. (os arquivos devem estar nomeados desta forma)"
   ]
  },
  {
   "cell_type": "markdown",
   "metadata": {},
   "source": [
    "<hr>\n",
    "\n",
    "## Parabéns!\n",
    "\n",
    "Se você já está satisfeito com a sua solução, vá até a página abaixo e envie os arquivos necessários para submissão.\n",
    "\n",
    "# https://tnt.maratona.dev\n"
   ]
  },
  {
   "cell_type": "code",
   "execution_count": null,
   "metadata": {},
   "outputs": [],
   "source": []
  }
 ],
 "metadata": {
  "kernelspec": {
   "display_name": "Python 3",
   "language": "python",
   "name": "python3"
  },
  "language_info": {
   "codemirror_mode": {
    "name": "ipython",
    "version": 3
   },
   "file_extension": ".py",
   "mimetype": "text/x-python",
   "name": "python",
   "nbconvert_exporter": "python",
   "pygments_lexer": "ipython3",
   "version": "3.7.4"
  }
 },
 "nbformat": 4,
 "nbformat_minor": 1
}
